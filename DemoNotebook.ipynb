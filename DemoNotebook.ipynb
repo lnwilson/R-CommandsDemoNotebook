{
 "cells": [
  {
   "cell_type": "markdown",
   "metadata": {},
   "source": [
    "# Demo Notebook #\n",
    "## Objectives: ##\n",
    "To show how commands are used.\n",
    "## Instructions: ##\n",
    "You can use this notebook to practice the commands you see in the videos attached to \"R commands you should be able to use ... so far\".\n",
    "## Formulae: ##\n",
    "No formlae are required for this tutorial."
   ]
  },
  {
   "cell_type": "markdown",
   "metadata": {},
   "source": [
    "## Tools: ##"
   ]
  },
  {
   "cell_type": "code",
   "execution_count": 8,
   "metadata": {},
   "outputs": [],
   "source": [
    "hHippo <- read.csv(\"houseHippo.csv\",header=TRUE)"
   ]
  },
  {
   "cell_type": "markdown",
   "metadata": {},
   "source": [
    "## Data Information: ##\n",
    "\n",
    "#### Note: ####\n",
    "If you've never heard of house hippos you can learn about them by watching the videos linked below.<br>REMEMBER: House hippos are fictional, but I didn't invent them.<br>\n",
    "https://www.youtube.com/watch?v=TijcoS8qHIE\n",
    "<br>\n",
    "https://www.youtube.com/watch?v=5R_tOSRynZU\n",
    "\n",
    "### Data Set: ###\n",
    "Dr. Pliny Yoruba studied house hippos with her students for over 25 years. Those students were tasked with collating data from hundreds of hours of footage taken of the dale of house hippos that lived in student housing at the University of Lethbridge in 1999. These data are the state of the dale of 120 North American house hippos that lived in Pikani House on May 12, 1999.\n",
    "\n",
    "#### Name: #### \n",
    "* `hHippo` - House hippo data collected in 1999.\n",
    "\n",
    "#### Variables: ####\n",
    "* `age` - age in days\n",
    "* `height` - height at the shoulder, in cm\n",
    "* `sociability` - a percentage representing the proportion of herd interactions for which this individual was a participant\n",
    "* `provider` - a percentage indicating the proportion of food that was gathered by this individual\n",
    "* `colour` - all the house hippos in the studied dale were either sage-gray, lavender-gray, or blue-gray\n",
    "* `stage` - house hippos behaviour is classified by scientists as: infant, child, youth, adult, or elder behaviour."
   ]
  },
  {
   "cell_type": "markdown",
   "metadata": {},
   "source": [
    "## Question:  How do you create a frequency histogram?"
   ]
  },
  {
   "cell_type": "code",
   "execution_count": 13,
   "metadata": {
    "scrolled": true
   },
   "outputs": [
    {
     "data": {
      "image/png": "[encoded data removed]",
      "text/plain": [
       "Plot with title “Histogram of House Hippo ages (in days)”"
      ]
     },
     "metadata": {},
     "output_type": "display_data"
    }
   ],
   "source": [
    "hist(hHippo$age,\n",
    "    main = \"Histogram of House Hippo ages (in days)\",\n",
    "    breaks = 8)"
   ]
  },
  {
   "cell_type": "code",
   "execution_count": 15,
   "metadata": {},
   "outputs": [
    {
     "data": {
      "text/html": [
       "0"
      ],
      "text/latex": [
       "0"
      ],
      "text/markdown": [
       "0"
      ],
      "text/plain": [
       "[1] 0"
      ]
     },
     "metadata": {},
     "output_type": "display_data"
    },
    {
     "data": {
      "text/html": [
       "0.922583561"
      ],
      "text/latex": [
       "0.922583561"
      ],
      "text/markdown": [
       "0.922583561"
      ],
      "text/plain": [
       "[1] 0.9225836"
      ]
     },
     "metadata": {},
     "output_type": "display_data"
    },
    {
     "data": {
      "image/png": "[encoded data removed]",
      "text/plain": [
       "Plot with title “Histogram of Percent of food provided by hippo”"
      ]
     },
     "metadata": {},
     "output_type": "display_data"
    }
   ],
   "source": [
    "hist(hHippo$provider,\n",
    "    main = \"Histogram of Percent of food provided by hippo\")\n",
    "min(hHippo$provider)\n",
    "max(hHippo$provider)"
   ]
  },
  {
   "cell_type": "code",
   "execution_count": 16,
   "metadata": {},
   "outputs": [
    {
     "ename": "ERROR",
     "evalue": "Error in hist.default(hHippo$colour, main = \"Histogram of the colours of house hippos\"): 'x' must be numeric\n",
     "output_type": "error",
     "traceback": [
      "Error in hist.default(hHippo$colour, main = \"Histogram of the colours of house hippos\"): 'x' must be numeric\nTraceback:\n",
      "1. hist(hHippo$colour, main = \"Histogram of the colours of house hippos\")",
      "2. hist.default(hHippo$colour, main = \"Histogram of the colours of house hippos\")",
      "3. stop(\"'x' must be numeric\")"
     ]
    }
   ],
   "source": [
    "hist(hHippo$colour,\n",
    "    main=\"Histogram of the colours of house hippos\")"
   ]
  },
  {
   "cell_type": "markdown",
   "metadata": {},
   "source": [
    "---\n",
    "---\n",
    "#### This tutorial is released under a Creative Commons Attribution-ShareAlike 3.0 Unported.\n",
    "\n",
    "This tutorial has been adapted from a lab that  was adapted for OpenIntro by Andrew Bray and Mine Çetinkaya-Rundel from a lab written by Mark Hansen of UCLA Statistics.\n",
    "\n",
    "---\n",
    "---"
   ]
  }
 ],
 "metadata": {
  "kernelspec": {
   "display_name": "R",
   "language": "R",
   "name": "ir"
  },
  "language_info": {
   "codemirror_mode": "r",
   "file_extension": ".r",
   "mimetype": "text/x-r-source",
   "name": "R",
   "pygments_lexer": "r",
   "version": "3.6.1"
  }
 },
 "nbformat": 4,
 "nbformat_minor": 2
}
